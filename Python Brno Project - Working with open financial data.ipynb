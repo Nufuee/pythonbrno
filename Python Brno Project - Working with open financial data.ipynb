{
 "cells": [
  {
   "cell_type": "markdown",
   "metadata": {},
   "source": [
    "## Python Brno Project - Working with Open Financial Data"
   ]
  },
  {
   "cell_type": "markdown",
   "metadata": {},
   "source": [
    "### Python Brno Project - Part 1\n",
    "\n",
    "The first part of the project will involve reading about and collecting the data we will use for the project."
   ]
  },
  {
   "cell_type": "markdown",
   "metadata": {
    "collapsed": true
   },
   "source": [
    "1. Install the quandl package\n",
    "  - https://www.quandl.com/tools/python\n",
    "- Create a new jupyter notebook called 'Python Brno Project'\n",
    "- Read through the quandl documentation in the link above to find out how to download time series into pandas dataframes\n",
    "- Download and store the following timeseries in new variables\n",
    "  - S&P 500 index: `YAHOO/INDEX_GSPC`\n",
    "  - Effective federal funds rate: `FRED/FEDFUNDS`\n",
    "- Read about what these series are\n",
    "- Run a `head()` to see the strucutre of the data\n",
    "- Run an `info()` on each dataframe\n",
    "  - What time period do these series cover?\n",
    "  - What are the maximum and minimum data points?\n",
    "  - Is there any missing data?\n",
    "- Plot these dataframes\n",
    "- Run the describe function on each dataframes\n",
    "- Do a google serach to determine the pandas function for 'percentage change'\n",
    "  - Run this function on the S&P 500 index Close value\n",
    "    - What is the average daily return and standard deviation for the index Close?\n",
    "    - What is the average daily return and standard deviation for the index Open?\n",
    "- Look at the index values for each dataframe\n",
    "  - What is the type of the index values?\n",
    "  - Can we easily compare these two data series in their current form?\n",
    "  - What do we need to do to the index values to make them comparable\n",
    "  - What should we do when modifying the indices to ensure we avoid lookahead bias"
   ]
  },
  {
   "cell_type": "markdown",
   "metadata": {},
   "source": [
    "### Python Brno Project - Part 2"
   ]
  },
  {
   "cell_type": "code",
   "execution_count": null,
   "metadata": {
    "collapsed": true
   },
   "outputs": [],
   "source": []
  },
  {
   "cell_type": "markdown",
   "metadata": {},
   "source": [
    "### Python Brno Project - Part 3"
   ]
  },
  {
   "cell_type": "code",
   "execution_count": null,
   "metadata": {
    "collapsed": true
   },
   "outputs": [],
   "source": []
  }
 ],
 "metadata": {
  "anaconda-cloud": {},
  "kernelspec": {
   "display_name": "Python [default]",
   "language": "python",
   "name": "python3"
  },
  "language_info": {
   "codemirror_mode": {
    "name": "ipython",
    "version": 3
   },
   "file_extension": ".py",
   "mimetype": "text/x-python",
   "name": "python",
   "nbconvert_exporter": "python",
   "pygments_lexer": "ipython3",
   "version": "3.5.2"
  }
 },
 "nbformat": 4,
 "nbformat_minor": 1
}
