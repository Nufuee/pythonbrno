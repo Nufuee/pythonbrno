{
 "cells": [
  {
   "cell_type": "markdown",
   "metadata": {},
   "source": [
    "## Python Brno Project - Working with Open Financial Data"
   ]
  },
  {
   "cell_type": "markdown",
   "metadata": {},
   "source": [
    "### Python Brno Project - Part 1\n",
    "\n",
    "The first part of the project will involve reading about and collecting the data we will use for the project."
   ]
  },
  {
   "cell_type": "markdown",
   "metadata": {
    "collapsed": true
   },
   "source": [
    "1. Install the quandl package\n",
    "  - https://www.quandl.com/tools/python\n",
    "- Create a new jupyter notebook called 'Python Brno Project'\n",
    "- Read through the quandl documentation in the link above to find out how to download time series into pandas dataframes\n",
    "- Download and store the following timeseries in new variables\n",
    "  - S&P 500 index: `YAHOO/INDEX_GSPC`\n",
    "  - Effective federal funds rate: `FRED/FEDFUNDS`\n",
    "- Read about what these series are\n",
    "- Run a `head()` to see the strucutre of the data\n",
    "- Run an `info()` on each dataframe\n",
    "  - What time period do these series cover?\n",
    "  - What are the maximum and minimum data points?\n",
    "  - Is there any missing data?\n",
    "- Plot these dataframes\n",
    "- Run the describe function on each dataframes\n",
    "- Do a google serach to determine the pandas function for 'percentage change'\n",
    "  - Run this function on the S&P 500 index Close value\n",
    "    - What is the average daily return and standard deviation for the index Close?\n",
    "    - What is the average daily return and standard deviation for the index Open?\n",
    "- Look at the index values for each dataframe\n",
    "  - What is the type of the index values?\n",
    "  - Can we easily compare these two data series in their current form?\n",
    "  - What do we need to do to the index values to make them comparable\n",
    "  - What should we do when modifying the indices to ensure we avoid lookahead bias"
   ]
  },
  {
   "cell_type": "code",
   "execution_count": null,
   "metadata": {
    "collapsed": true
   },
   "outputs": [],
   "source": [
    "%matplotlib inline\n",
    "import matplotlib.pyplot as plt\n",
    "\n",
    "import pandas as pd\n",
    "pd.options.display.max_rows = 12\n",
    "\n",
    "import quandl"
   ]
  },
  {
   "cell_type": "code",
   "execution_count": null,
   "metadata": {
    "collapsed": true
   },
   "outputs": [],
   "source": [
    "# fed_funds = quandl.get('FRED/FEDFUNDS')\n",
    "# sp500_index = quandl.get('YAHOO/INDEX_GSPC')\n",
    "# fed_funds.to_hdf('data.h5', 'fed_funds')\n",
    "# sp500_index.to_hdf('data.h5', 'sp500_index')"
   ]
  },
  {
   "cell_type": "code",
   "execution_count": null,
   "metadata": {
    "collapsed": false
   },
   "outputs": [],
   "source": [
    "fed_funds = pd.read_hdf('data.h5','fed_funds')\n",
    "sp500_index = pd.read_hdf('data.h5','sp500_index')"
   ]
  },
  {
   "cell_type": "code",
   "execution_count": null,
   "metadata": {
    "collapsed": false
   },
   "outputs": [],
   "source": [
    "fed_funds"
   ]
  },
  {
   "cell_type": "code",
   "execution_count": null,
   "metadata": {
    "collapsed": false
   },
   "outputs": [],
   "source": [
    "sp500_index"
   ]
  },
  {
   "cell_type": "code",
   "execution_count": null,
   "metadata": {
    "collapsed": false
   },
   "outputs": [],
   "source": [
    "sp500_index.Open.pct_change().dropna().mean()*100"
   ]
  },
  {
   "cell_type": "code",
   "execution_count": null,
   "metadata": {
    "collapsed": false
   },
   "outputs": [],
   "source": [
    "sp500_index.Close.pct_change().dropna().mean()*100"
   ]
  },
  {
   "cell_type": "code",
   "execution_count": null,
   "metadata": {
    "collapsed": false
   },
   "outputs": [],
   "source": [
    "fed_funds.index"
   ]
  },
  {
   "cell_type": "code",
   "execution_count": null,
   "metadata": {
    "collapsed": false
   },
   "outputs": [],
   "source": [
    "sp500_index.index"
   ]
  },
  {
   "cell_type": "code",
   "execution_count": null,
   "metadata": {
    "collapsed": false
   },
   "outputs": [],
   "source": [
    "len(fed_funds.index)"
   ]
  },
  {
   "cell_type": "code",
   "execution_count": null,
   "metadata": {
    "collapsed": false
   },
   "outputs": [],
   "source": [
    "len(sp500_index.index)"
   ]
  },
  {
   "cell_type": "code",
   "execution_count": null,
   "metadata": {
    "collapsed": true
   },
   "outputs": [],
   "source": []
  },
  {
   "cell_type": "markdown",
   "metadata": {},
   "source": [
    "### Python Brno Project - Part 2"
   ]
  },
  {
   "cell_type": "markdown",
   "metadata": {
    "collapsed": true
   },
   "source": [
    "### Replication\n",
    "\n",
    "https://blogs.cfainstitute.org/investor/2015/11/16/how-does-monetary-policy-impact-market-performance/\n",
    "\n",
    "- Normalizing: interest rates are rising, companies have to pay higher rates to take out loans\n",
    "- Accomodating: interest rates are falling, companies can take out loans more cheaply \n",
    "\n",
    "\n",
    "We want to test a strategy:\n",
    "\n",
    "- invest in the stock market when interest rates are falling\n",
    "- keep your money in cash when interest rates are rising\n",
    "\n",
    "### Lookahead Bias\n",
    "\n",
    "- primary source of all exceptional trading strategy returns / exceptional machine learning model performance\n",
    "- information from the future which would not have been known at decision time is accidentally used\n",
    "\n",
    "\n",
    "In our case, we are going to use the interest rate data as our trading signal. So we must ensure that our trades are executed after the date specified in the interest rate series.\n",
    "\n",
    "We want to reindex our the S&P 500 data by the fed_funds index plus a 1 day offset"
   ]
  },
  {
   "cell_type": "code",
   "execution_count": null,
   "metadata": {
    "collapsed": false
   },
   "outputs": [],
   "source": [
    "fed_funds.index"
   ]
  },
  {
   "cell_type": "code",
   "execution_count": null,
   "metadata": {
    "collapsed": false
   },
   "outputs": [],
   "source": [
    "fed_funds.index + pd.Timedelta('1 day')"
   ]
  },
  {
   "cell_type": "code",
   "execution_count": null,
   "metadata": {
    "collapsed": false
   },
   "outputs": [],
   "source": [
    "fed_index_plus_1d = fed_funds.index + pd.Timedelta('1 day')\n",
    "sp500_index.loc[fed_index_plus_1d,:]"
   ]
  },
  {
   "cell_type": "markdown",
   "metadata": {},
   "source": [
    "When we try to reindex the s&p 500 data, we get some null values because the market was closed on these days\n",
    "\n",
    "\n",
    "Luckily pandas has a beautiful `reindex` method which we can use to backfill futures values to this date. Remember, we are only able to backfill because we have specifically offset the trade date to a day after our interest rate observation.\n",
    "\n",
    "\n",
    "Let's try it an check our work."
   ]
  },
  {
   "cell_type": "code",
   "execution_count": null,
   "metadata": {
    "collapsed": false
   },
   "outputs": [],
   "source": [
    "fed_index_plus_1d = fed_funds.index + pd.Timedelta('1 day')\n",
    "sp500_index_by_fed_funds_index = sp500_index.reindex(fed_index_plus_1d, method='backfill')\n",
    "sp500_index_by_fed_funds_index"
   ]
  },
  {
   "cell_type": "markdown",
   "metadata": {},
   "source": [
    "Check that the null values from `1954-10-02` and `2016-10-02` match what we'd expect"
   ]
  },
  {
   "cell_type": "code",
   "execution_count": null,
   "metadata": {
    "collapsed": true
   },
   "outputs": [],
   "source": [
    "# sp500_index.loc['1954-10']\n",
    "# sp500_index.loc['2016-10']"
   ]
  },
  {
   "cell_type": "markdown",
   "metadata": {},
   "source": [
    "Now we can join the tables together. First check that the indexes are equal."
   ]
  },
  {
   "cell_type": "code",
   "execution_count": null,
   "metadata": {
    "collapsed": false
   },
   "outputs": [],
   "source": [
    "# assert all(fed_funds.index == sp500_index_by_fed_funds_index.index)"
   ]
  },
  {
   "cell_type": "markdown",
   "metadata": {},
   "source": [
    "We need to reindex the sp500 table again because we forced the index values 1 day ahead."
   ]
  },
  {
   "cell_type": "code",
   "execution_count": null,
   "metadata": {
    "collapsed": false
   },
   "outputs": [],
   "source": [
    "sp500_index_by_fed_funds_index.index = (sp500_index_by_fed_funds_index.index - pd.Timedelta('1 day'))"
   ]
  },
  {
   "cell_type": "code",
   "execution_count": null,
   "metadata": {
    "collapsed": false
   },
   "outputs": [],
   "source": [
    "sp500_index_by_fed_funds_index"
   ]
  },
  {
   "cell_type": "markdown",
   "metadata": {},
   "source": [
    "Check again"
   ]
  },
  {
   "cell_type": "code",
   "execution_count": null,
   "metadata": {
    "collapsed": false
   },
   "outputs": [],
   "source": [
    "assert all(fed_funds.index == sp500_index_by_fed_funds_index.index)"
   ]
  },
  {
   "cell_type": "code",
   "execution_count": null,
   "metadata": {
    "collapsed": false
   },
   "outputs": [],
   "source": [
    "assert len(fed_funds) == len(sp500_index_by_fed_funds_index)\n",
    "\n",
    "data_merged = fed_funds.join(sp500_index_by_fed_funds_index)\n",
    "data_merged\n",
    "# assert len(fed_funds) == len(sp500_index_by_fed_funds_index) == len(data_joined)"
   ]
  },
  {
   "cell_type": "code",
   "execution_count": null,
   "metadata": {
    "collapsed": false
   },
   "outputs": [],
   "source": [
    "data_merged = data_merged.rename(columns={'VALUE' : 'fed_rate'})\n",
    "data_merged"
   ]
  },
  {
   "cell_type": "markdown",
   "metadata": {},
   "source": [
    "### Homework\n",
    "\n",
    "1. In the original sp500 table create a new column called `ma200` and set its value to the 200 day moving average.\n",
    "2. Drop null values from the table\n",
    "3. Assert that the new table is 200 rows less than the old one\n",
    "4. Repeat the steps above to merge the table with the moving average and the fed rate series\n",
    "5. Create a new column called `rate_decreasing` which is true if the change in the rate over the last period is negative\n",
    "6. Create a new column called `long` which has the same value as `rate_decreasing` but shifted up one row (use `df.shift`)\n",
    "7. Create a new column called `period_return` which and set its value equal to one plus the change in the value of `Close`\n",
    "8. Create a new column called `portfolio_return` and set it to `period_return` if `long` is true. Otherwise set it to 1.\n",
    "\n",
    "#### Bonus:\n",
    "- combine the ma200 indicator with the rate_increasing indicator\n",
    "- if the s&p 500 is above it's 200d moving average, go long, otherwise stay out of the market"
   ]
  },
  {
   "cell_type": "code",
   "execution_count": null,
   "metadata": {
    "collapsed": true
   },
   "outputs": [],
   "source": []
  },
  {
   "cell_type": "code",
   "execution_count": null,
   "metadata": {
    "collapsed": true
   },
   "outputs": [],
   "source": []
  },
  {
   "cell_type": "code",
   "execution_count": null,
   "metadata": {
    "collapsed": true
   },
   "outputs": [],
   "source": []
  },
  {
   "cell_type": "markdown",
   "metadata": {},
   "source": [
    "### Python Brno Project - Part 3"
   ]
  },
  {
   "cell_type": "code",
   "execution_count": null,
   "metadata": {
    "collapsed": true
   },
   "outputs": [],
   "source": []
  },
  {
   "cell_type": "code",
   "execution_count": null,
   "metadata": {
    "collapsed": true
   },
   "outputs": [],
   "source": []
  },
  {
   "cell_type": "code",
   "execution_count": null,
   "metadata": {
    "collapsed": true
   },
   "outputs": [],
   "source": []
  }
 ],
 "metadata": {
  "anaconda-cloud": {},
  "kernelspec": {
   "display_name": "Python [default]",
   "language": "python",
   "name": "python3"
  },
  "language_info": {
   "codemirror_mode": {
    "name": "ipython",
    "version": 3
   },
   "file_extension": ".py",
   "mimetype": "text/x-python",
   "name": "python",
   "nbconvert_exporter": "python",
   "pygments_lexer": "ipython3",
   "version": "3.5.2"
  }
 },
 "nbformat": 4,
 "nbformat_minor": 1
}
